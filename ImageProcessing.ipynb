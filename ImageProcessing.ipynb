{
 "cells": [
  {
   "cell_type": "markdown",
   "metadata": {},
   "source": [
    "# Digital Image Processing\n",
    "### Goal: \n",
    "### Demo load digital image as data matrix\n",
    "### Matrix subtraction to get RGB intensity difference\n",
    "### save the difference into new image file \n",
    "\n",
    "1. Requirement: Import PIL : Python Image Library \n",
    "2. test1.jpg is opened and loaded into Numpy array with shape (2048, 1536, 3) representing 2048 by 1536 pixel with RGB intensity\n",
    "3. code:  `difference_matrix = np.abs(matrix1 - matrix2)`\n",
    "4. test1.jpg </br>\n",
    "<a href=\"https://.com\">\n",
    "  <img src=\"./test1.jpg\" alt=\"test1.jpg\" width=\"200\" height=\"100\">\n",
    "</a>\n",
    "5. test2.jpg </br>\n",
    "<a href=\"https://.com\">\n",
    "  <img src=\"./test2.jpg\" alt=\"test2.jpg\" width=\"200\" height=\"100\">\n",
    "</a>\n",
    "6. different image </br>\n",
    "<a href=\"https://.com\">\n",
    "  <img src=\"./difference_image.jpg\" alt=\"difference_image.jpg\" width=\"200\" height=\"100\">\n",
    "</a>\n",
    "\n",
    "\n",
    "\n",
    "\n",
    "\n",
    "\n"
   ]
  },
  {
   "cell_type": "code",
   "execution_count": 6,
   "metadata": {},
   "outputs": [
    {
     "name": "stdout",
     "output_type": "stream",
     "text": [
      "Defaulting to user installation because normal site-packages is not writeable\n",
      "Requirement already satisfied: pip in c:\\program files\\windowsapps\\pythonsoftwarefoundation.python.3.12_3.12.496.0_x64__qbz5n2kfra8p0\\lib\\site-packages (23.2.1)\n",
      "Collecting pip\n",
      "  Obtaining dependency information for pip from https://files.pythonhosted.org/packages/47/6a/453160888fab7c6a432a6e25f8afe6256d0d9f2cbd25971021da6491d899/pip-23.3.1-py3-none-any.whl.metadata\n",
      "  Downloading pip-23.3.1-py3-none-any.whl.metadata (3.5 kB)\n",
      "Downloading pip-23.3.1-py3-none-any.whl (2.1 MB)\n",
      "   ---------------------------------------- 0.0/2.1 MB ? eta -:--:--\n",
      "   ---------------------------------------- 0.0/2.1 MB ? eta -:--:--\n",
      "    --------------------------------------- 0.0/2.1 MB 495.5 kB/s eta 0:00:05\n",
      "   - -------------------------------------- 0.1/2.1 MB 762.6 kB/s eta 0:00:03\n",
      "   -- ------------------------------------- 0.1/2.1 MB 722.1 kB/s eta 0:00:03\n",
      "   --- ------------------------------------ 0.2/2.1 MB 821.4 kB/s eta 0:00:03\n",
      "   ----- ---------------------------------- 0.3/2.1 MB 1.1 MB/s eta 0:00:02\n",
      "   ------ --------------------------------- 0.3/2.1 MB 1.1 MB/s eta 0:00:02\n",
      "   ------- -------------------------------- 0.4/2.1 MB 1.2 MB/s eta 0:00:02\n",
      "   --------- ------------------------------ 0.5/2.1 MB 1.3 MB/s eta 0:00:02\n",
      "   ------------ --------------------------- 0.7/2.1 MB 1.6 MB/s eta 0:00:01\n",
      "   ------------- -------------------------- 0.7/2.1 MB 1.6 MB/s eta 0:00:01\n",
      "   --------------- ------------------------ 0.8/2.1 MB 1.6 MB/s eta 0:00:01\n",
      "   ------------------ --------------------- 1.0/2.1 MB 1.7 MB/s eta 0:00:01\n",
      "   --------------------- ------------------ 1.1/2.1 MB 1.8 MB/s eta 0:00:01\n",
      "   ---------------------- ----------------- 1.2/2.1 MB 1.8 MB/s eta 0:00:01\n",
      "   ------------------------- -------------- 1.3/2.1 MB 1.9 MB/s eta 0:00:01\n",
      "   -------------------------- ------------- 1.4/2.1 MB 1.9 MB/s eta 0:00:01\n",
      "   -------------------------- ------------- 1.4/2.1 MB 1.9 MB/s eta 0:00:01\n",
      "   -------------------------- ------------- 1.4/2.1 MB 1.9 MB/s eta 0:00:01\n",
      "   -------------------------- ------------- 1.4/2.1 MB 1.9 MB/s eta 0:00:01\n",
      "   -------------------------- ------------- 1.4/2.1 MB 1.9 MB/s eta 0:00:01\n",
      "   --------------------------- ------------ 1.5/2.1 MB 1.5 MB/s eta 0:00:01\n",
      "   ---------------------------- ----------- 1.5/2.1 MB 1.5 MB/s eta 0:00:01\n",
      "   ----------------------------- ---------- 1.5/2.1 MB 1.4 MB/s eta 0:00:01\n",
      "   ------------------------------- -------- 1.7/2.1 MB 1.5 MB/s eta 0:00:01\n",
      "   -------------------------------- ------- 1.7/2.1 MB 1.5 MB/s eta 0:00:01\n",
      "   ---------------------------------- ----- 1.8/2.1 MB 1.5 MB/s eta 0:00:01\n",
      "   ----------------------------------- ---- 1.9/2.1 MB 1.5 MB/s eta 0:00:01\n",
      "   ------------------------------------- -- 2.0/2.1 MB 1.5 MB/s eta 0:00:01\n",
      "   ---------------------------------------  2.1/2.1 MB 1.5 MB/s eta 0:00:01\n",
      "   ---------------------------------------- 2.1/2.1 MB 1.5 MB/s eta 0:00:00\n",
      "Installing collected packages: pip\n",
      "Successfully installed pip-23.3.1\n",
      "Defaulting to user installation because normal site-packages is not writeable\n",
      "Requirement already satisfied: numpy in c:\\users\\vsun1\\appdata\\local\\packages\\pythonsoftwarefoundation.python.3.12_qbz5n2kfra8p0\\localcache\\local-packages\\python312\\site-packages (1.26.2)\n",
      "Defaulting to user installation because normal site-packages is not writeable\n",
      "Requirement already satisfied: Pillow in c:\\users\\vsun1\\appdata\\local\\packages\\pythonsoftwarefoundation.python.3.12_qbz5n2kfra8p0\\localcache\\local-packages\\python312\\site-packages (10.1.0)\n"
     ]
    }
   ],
   "source": [
    "!pip install --upgrade pip\n",
    "!pip install numpy\n",
    "!pip install Pillow"
   ]
  },
  {
   "cell_type": "code",
   "execution_count": 7,
   "metadata": {},
   "outputs": [
    {
     "name": "stdout",
     "output_type": "stream",
     "text": [
      "Matrix 1 from Image has shape of  (2048, 1536, 3)\n",
      "Matrix 2 from Image has shape of  (2048, 1536, 3)\n",
      "Saving different RGB pixel into ./difference_image.jpg . . .\n"
     ]
    }
   ],
   "source": [
    "from PIL import Image\n",
    "import numpy as np\n",
    "\n",
    "def load_image(image_path):\n",
    "    img = Image.open(image_path)\n",
    "    return img\n",
    "\n",
    "def resize_image(img, target_size=(256, 256)):\n",
    "    img_resized = img.resize(target_size, Image.BICUBIC)\n",
    "    return img_resized\n",
    "\n",
    "def image_to_matrix(img):\n",
    "    img_array = np.array(img)\n",
    "    return img_array\n",
    "\n",
    "def save_difference_matrix_image(matrix, output_path='difference_image.jpg'):\n",
    "    normalized_matrix = (matrix / matrix.max() * 255).astype(np.uint8)\n",
    "    difference_image = Image.fromarray(normalized_matrix)\n",
    "    difference_image.save(output_path)\n",
    "\n",
    "def main():\n",
    "    image_path1 = './test1.jpg' \n",
    "    target_size=(1536, 2048)\n",
    "    img1 = Image.open(image_path1)\n",
    "    img1_resized = resize_image(img1, target_size)\n",
    "\n",
    "    matrix1 = np.array(img1_resized) \n",
    "    #print(matrix1)\n",
    "    print(\"Matrix 1 from Image has shape of \", matrix1.shape)\n",
    "\n",
    "    image_path2 = './test2.jpg'\n",
    "    img2 = Image.open(image_path2)\n",
    "    img2_resized = resize_image(img2, target_size)\n",
    "\n",
    "    matrix2 = np.array(img2_resized)\n",
    "    print(\"Matrix 2 from Image has shape of \", matrix2.shape)\n",
    "\n",
    "    # compute the different in two matrices\n",
    "    difference_matrix = np.abs(matrix1 - matrix2)\n",
    "    save_difference_matrix_image(difference_matrix) \n",
    "    print(\"Saving different RGB pixel into ./difference_image.jpg . . .\")\n",
    "\n",
    "if __name__ == \"__main__\":\n",
    "    main()"
   ]
  }
 ],
 "metadata": {
  "kernelspec": {
   "display_name": "Python 3",
   "language": "python",
   "name": "python3"
  },
  "language_info": {
   "codemirror_mode": {
    "name": "ipython",
    "version": 3
   },
   "file_extension": ".py",
   "mimetype": "text/x-python",
   "name": "python",
   "nbconvert_exporter": "python",
   "pygments_lexer": "ipython3",
   "version": "3.12.1"
  }
 },
 "nbformat": 4,
 "nbformat_minor": 2
}
